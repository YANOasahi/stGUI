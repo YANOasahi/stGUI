{
 "cells": [
  {
   "cell_type": "code",
   "execution_count": 10,
   "id": "d8ce0d0c-6074-47f2-aebc-91418d014448",
   "metadata": {},
   "outputs": [],
   "source": [
    "# import modules \n",
    "import tkinter as tk\n",
    "import socket\n",
    "import tkinter.scrolledtext\n",
    "import time\n",
    "\n",
    "from time import sleep\n",
    "from tkinter import ttk"
   ]
  },
  {
   "cell_type": "code",
   "execution_count": 11,
   "id": "4fc0044e-9d72-43de-8d21-47e6e40ede28",
   "metadata": {},
   "outputs": [],
   "source": [
    "# set IP addreses and ports\n",
    "global ip\n",
    "global port\n",
    "\n",
    "ip = ['192.168.1.31', '192.168.1.32']\n",
    "port = ['22', '22']"
   ]
  },
  {
   "cell_type": "code",
   "execution_count": 12,
   "id": "1c92c6cc-b966-4c5a-a851-780899af37aa",
   "metadata": {},
   "outputs": [],
   "source": [
    "# set GUI window\n",
    "#  window\n",
    "width = 700\n",
    "height = 600\n",
    "xpos = 400\n",
    "ypos = 150\n",
    "\n",
    "window = tk.Tk()\n",
    "window.title('Steerer controller')\n",
    "window.geometry(f'{width}x{height}+{xpos}+{ypos}')\n",
    "\n",
    "# label\n",
    "magnets = ['ST1', 'ST2']\n",
    "addresses = []\n",
    "for i in range(len(ip)):\n",
    "    addresses.append(f'{ip[i]}:{port[i]}')\n",
    "\n",
    "for i in range(len(ip)):\n",
    "     label = tk.Label(window, text=magnets[i], height=3, width=7, font=(\"Arial\",16), relief=tk.RIDGE).place(x=175+300*i, y=5)\n",
    "     label2 = tk.Label(window, text=f'IP is {addresses[i]}', font=(\"Arial\",12), relief=tk.RIDGE).place(x=145+300*i, y=85)"
   ]
  },
  {
   "cell_type": "code",
   "execution_count": 13,
   "id": "ead4e609-b64e-41f4-a170-3b52f723308a",
   "metadata": {},
   "outputs": [],
   "source": [
    "# open window\n",
    "window.mainloop()"
   ]
  },
  {
   "cell_type": "code",
   "execution_count": 14,
   "id": "f8f47e4d-f88a-4b44-8f03-a8efdcce295d",
   "metadata": {},
   "outputs": [],
   "source": [
    "# def ip():\n",
    "    # istr = [socket.socket(socket.AF_INET, socket.SOCK_STREAM), socket.socket(socket.AF_INET, socket.SOCK_STREAM)]\n",
    "    # ipAddr = ['192.168.1.31', '192.168.1.31']\n",
    "    # port = [22, 22]\n",
    "\n",
    "    # loopFlg = 0\n",
    "\n",
    "    # if steer_name=='st1':\n",
    "    #     return print(f'IP1 is {ipAddr[0]}:{port[0]}')\n",
    "    # elif  steer_name=='st2':\n",
    "    #     return print(f'IP2 is {ipAddr[0]}:{port[0]}')\n",
    "    # else:\n",
    "    #     return print('You put a wrong name')"
   ]
  }
 ],
 "metadata": {
  "kernelspec": {
   "display_name": "base",
   "language": "python",
   "name": "python3"
  },
  "language_info": {
   "codemirror_mode": {
    "name": "ipython",
    "version": 3
   },
   "file_extension": ".py",
   "mimetype": "text/x-python",
   "name": "python",
   "nbconvert_exporter": "python",
   "pygments_lexer": "ipython3",
   "version": "3.12.6"
  }
 },
 "nbformat": 4,
 "nbformat_minor": 5
}
