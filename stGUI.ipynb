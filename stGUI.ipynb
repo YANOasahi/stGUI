{
 "cells": [
  {
   "cell_type": "code",
   "execution_count": null,
   "id": "d8ce0d0c-6074-47f2-aebc-91418d014448",
   "metadata": {},
   "outputs": [],
   "source": [
    "# import modules\n",
    "import tkinter as tk\n",
    "import socket\n",
    "import time\n",
    "import subprocess\n",
    "import paramiko\n",
    "\n",
    "from time import sleep\n",
    "from tkinter import ttk\n",
    "from tkinter import scrolledtext"
   ]
  },
  {
   "cell_type": "code",
   "execution_count": 38,
   "id": "4fc0044e-9d72-43de-8d21-47e6e40ede28",
   "metadata": {},
   "outputs": [],
   "source": [
    "# set IP addreses and ports\n",
    "global ip\n",
    "global port\n",
    "\n",
    "ip = ['192.168.1.31', '192.168.1.32']\n",
    "port = ['22', '22']"
   ]
  },
  {
   "cell_type": "code",
   "execution_count": 39,
   "id": "1c92c6cc-b966-4c5a-a851-780899af37aa",
   "metadata": {},
   "outputs": [],
   "source": [
    "# set GUI window\n",
    "#  window\n",
    "width = 700\n",
    "height = 600\n",
    "xpos = 400\n",
    "ypos = 150\n",
    "\n",
    "window = tk.Tk()\n",
    "window.title('Steerer controller')\n",
    "window.geometry(f'{width}x{height}+{xpos}+{ypos}')\n",
    "\n",
    "# label\n",
    "magnets = ['ST1', 'ST2']\n",
    "addresses = []\n",
    "for i in range(len(ip)):\n",
    "    addresses.append(f'{ip[i]}:{port[i]}')\n",
    "\n",
    "for i in range(len(ip)):\n",
    "    label = tk.Label(window, text=magnets[i], height=3, width=7, font=(\n",
    "        \"Arial\", 16), relief=tk.RIDGE).place(x=175+300*i, y=5)\n",
    "    label2 = tk.Label(window, text=f'IP is {addresses[i]}', font=(\n",
    "        \"Arial\", 12), relief=tk.RIDGE).place(x=145+300*i, y=85)"
   ]
  },
  {
   "cell_type": "code",
   "execution_count": null,
   "id": "9c9997ca",
   "metadata": {},
   "outputs": [],
   "source": [
    "def connect_ssh(num):\n",
    "    if num > len(ip):\n",
    "        print('you put wrong number!')\n",
    "\n",
    "    global ssh_client\n",
    "    ssh_client[num] = paramiko.SSHClient()\n",
    "    ssh_client[num].set_missing_host_key_policy(paramiko.AutoAddPolicy())\n",
    "\n",
    "    try:\n",
    "        ssh_client[num].connect(hostname=f'{ip[num]}:{port[num]}', timeout=15)\n",
    "        print(f'connected to {ip[num]}:{port[num]}')\n",
    "        return ssh_client\n",
    "    except Exception as e:\n",
    "        print('failed to connect...')\n",
    "        return str(e)\n",
    "\n",
    "\n",
    "# connect_ssh(0)\n",
    "# connect_ssh(1)\n",
    "# ssh_client[0].close()\n",
    "# ssh_client[1].close()"
   ]
  },
  {
   "cell_type": "code",
   "execution_count": null,
   "id": "52edf6f1",
   "metadata": {},
   "outputs": [],
   "source": [
    "# def execute_command():\n",
    "#     command = command_entry.get()\n",
    "#     try:\n",
    "#         # command\n",
    "#         result = subprocess.run(command, shell=True,\n",
    "#                                 capture_output=True, text=True)\n",
    "#         output_text.config(state=tk.NORMAL)  # テキストエリアを編集可能に\n",
    "#         output_text.delete(\"1.0\", tk.END)    # 既存のテキストをクリア\n",
    "#         output_text.insert(\n",
    "#             tk.END, result.stdout if result.returncode == 0 else result.stderr)\n",
    "#         output_text.config(state=tk.DISABLED)  # 編集不可に戻す\n",
    "\n",
    "#     except Exception as e:\n",
    "#         output_text.config(state=tk.NORMAL)\n",
    "#         output_text.delete(\"1.0\", tk.END)\n",
    "#         output_text.insert(tk.END, str(e))\n",
    "#         output_text.config(state=tk.DISABLED)\n",
    "\n",
    "\n",
    "# # コマンド入力用エントリー\n",
    "# command_entry = tk.Entry(window, width=70)\n",
    "# command_entry.pack(pady=10)\n",
    "\n",
    "# # 実行ボタン\n",
    "# execute_button = tk.Button(window, text=\"Execute\", command=execute_command)\n",
    "# execute_button.pack(pady=5)\n",
    "\n",
    "# # 結果表示用のスクロールテキスト\n",
    "# output_text = scrolledtext.ScrolledText(\n",
    "#     window, width=70, height=15, state=tk.DISABLED)\n",
    "# output_text.pack(pady=10)"
   ]
  },
  {
   "cell_type": "code",
   "execution_count": 41,
   "id": "ead4e609-b64e-41f4-a170-3b52f723308a",
   "metadata": {},
   "outputs": [],
   "source": [
    "# open window\n",
    "window.mainloop()"
   ]
  }
 ],
 "metadata": {
  "kernelspec": {
   "display_name": "base",
   "language": "python",
   "name": "python3"
  },
  "language_info": {
   "codemirror_mode": {
    "name": "ipython",
    "version": 3
   },
   "file_extension": ".py",
   "mimetype": "text/x-python",
   "name": "python",
   "nbconvert_exporter": "python",
   "pygments_lexer": "ipython3",
   "version": "3.12.6"
  }
 },
 "nbformat": 4,
 "nbformat_minor": 5
}
