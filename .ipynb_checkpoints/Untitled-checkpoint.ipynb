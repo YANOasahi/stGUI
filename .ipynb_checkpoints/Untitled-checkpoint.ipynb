{
 "cells": [
  {
   "cell_type": "code",
   "execution_count": 20,
   "id": "05a8fad3-4450-40a4-9c7f-e96565df1f14",
   "metadata": {},
   "outputs": [],
   "source": [
    "import tkinter as tk"
   ]
  },
  {
   "cell_type": "code",
   "execution_count": 93,
   "id": "15f01844-3486-4f5e-bca6-7fe5bb086226",
   "metadata": {},
   "outputs": [],
   "source": [
    "window = tk.Tk()\n",
    "window.title('practice')\n",
    "width = 600\n",
    "height = 700\n",
    "xpos = 400\n",
    "ypos = 150\n",
    "window.geometry(f'{width}x{height}+{xpos}+{ypos}')\n",
    "\n",
    "text = ['Pentax 6x7', 'Pentax K-5', 'Others']\n",
    "frame = []\n",
    "\n",
    "for i in range(3):\n",
    "    # frame.append(tk.Frame(window))\n",
    "    btn = tk.Button(window, text=text[i]).place(x=10+100*i, y=5)\n",
    "    \n",
    "# window.pack()\n",
    "    # frame[i].pack()"
   ]
  },
  {
   "cell_type": "code",
   "execution_count": 94,
   "id": "22533fbd-35ea-40b9-a155-21343af25a08",
   "metadata": {},
   "outputs": [],
   "source": [
    "window.mainloop()"
   ]
  }
 ],
 "metadata": {
  "kernelspec": {
   "display_name": "Python 3 (ipykernel)",
   "language": "python",
   "name": "python3"
  },
  "language_info": {
   "codemirror_mode": {
    "name": "ipython",
    "version": 3
   },
   "file_extension": ".py",
   "mimetype": "text/x-python",
   "name": "python",
   "nbconvert_exporter": "python",
   "pygments_lexer": "ipython3",
   "version": "3.12.6"
  }
 },
 "nbformat": 4,
 "nbformat_minor": 5
}
